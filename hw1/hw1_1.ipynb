{
 "cells": [
  {
   "cell_type": "code",
   "execution_count": 1,
   "metadata": {},
   "outputs": [],
   "source": [
    "# modules\n",
    "import matplotlib.pyplot as plt\n",
    "import numpy as np"
   ]
  },
  {
   "cell_type": "code",
   "execution_count": 2,
   "metadata": {},
   "outputs": [],
   "source": [
    "# helper functions\n",
    "def relu(x):\n",
    "    return np.maximum(x,0)\n",
    "\n",
    "def relu_derivative(x):\n",
    "    return np.where(x>0, 1, 0)\n",
    "\n",
    "def softmax(z):\n",
    "    return np.exp(z)/(np.sum(np.exp(z),axis=1))[:,np.newaxis]\n",
    "\n",
    "def forward(X,parameters):\n",
    "    # Unpacking parameters    \n",
    "    W1,b1,W2,b2,V,c = parameters\n",
    "    # Forward pass\n",
    "    a1 = X.dot(W1) + b1\n",
    "    H1 = relu(a1)\n",
    "    a2 = H1.dot(W2) + b2\n",
    "    H2 = relu(a2)\n",
    "    a3 = H2.dot(V) + c\n",
    "    Y_hat = softmax(a3)\n",
    "    return Y_hat\n",
    "\n",
    "def ff_nn_2_Relu(W1,b1,W2,b2,V,c,X):\n",
    "    pred_probs = forward(X,(W1,b1,W2,b2,V,c))\n",
    "    print('X : {}\\nY_hat :\\n{}'.format(X, pred_probs))\n"
   ]
  },
  {
   "cell_type": "code",
   "execution_count": 3,
   "metadata": {},
   "outputs": [
    {
     "name": "stdout",
     "output_type": "stream",
     "text": [
      "X : [[ 1 -1]]\n",
      "Y_hat :\n",
      "[[0.94649912 0.04712342 0.00637746]\n",
      " [0.57611688 0.21194156 0.21194156]]\n",
      "\n",
      "\n",
      "X : [[ 0 -1]]\n",
      "Y_hat :\n",
      "[[0.94649912 0.04712342 0.00637746]\n",
      " [0.57611688 0.21194156 0.21194156]]\n",
      "\n",
      "\n",
      "X : [[0 1]]\n",
      "Y_hat :\n",
      "[[0.94649912 0.04712342 0.00637746]\n",
      " [0.57611688 0.21194156 0.21194156]]\n",
      "\n",
      "\n"
     ]
    }
   ],
   "source": [
    "def main():\n",
    "    W1 = np.array([1,-1,0,0,0,0.5]).reshape((2,3))\n",
    "    b1 = np.array([0,0,1])\n",
    "    W2 = np.array([1,-1,0,-1,0,0]).reshape((3,2))\n",
    "    b2 = np.array([1,-1]).reshape((2,1))\n",
    "    V = np.array([1,0,-1,1,0,-1]).reshape((2,3))\n",
    "    c = np.array([1,0,0]).reshape((1,3))\n",
    "    X = {\n",
    "        0 : np.array([1,-1]).reshape((1,2)),\n",
    "        1 : np.array([0,-1]).reshape((1,2)),\n",
    "        2 : np.array([0,1]).reshape((1,2))\n",
    "    }\n",
    "    for i in X.keys():\n",
    "        ff_nn_2_Relu(W1,b1,W2,b2,V,c,X[i])\n",
    "        print('\\n')\n",
    "\n",
    "main()"
   ]
  }
 ],
 "metadata": {
  "kernelspec": {
   "display_name": "Python 2",
   "language": "python",
   "name": "python2"
  },
  "language_info": {
   "codemirror_mode": {
    "name": "ipython",
    "version": 2
   },
   "file_extension": ".py",
   "mimetype": "text/x-python",
   "name": "python",
   "nbconvert_exporter": "python",
   "pygments_lexer": "ipython2",
   "version": "2.7.15"
  }
 },
 "nbformat": 4,
 "nbformat_minor": 2
}
