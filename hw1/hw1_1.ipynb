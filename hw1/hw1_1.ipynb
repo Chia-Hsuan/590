{
 "cells": [
  {
   "cell_type": "code",
   "execution_count": 1,
   "metadata": {},
   "outputs": [],
   "source": [
    "# modules\n",
    "import numpy as np"
   ]
  },
  {
   "cell_type": "code",
   "execution_count": 2,
   "metadata": {},
   "outputs": [],
   "source": [
    "# helper functions\n",
    "def relu(x):\n",
    "    return np.maximum(x,0)\n",
    "\n",
    "def softmax(z):\n",
    "    return np.exp(z)/(np.sum(np.exp(z),axis=1))[:,np.newaxis]\n",
    "\n",
    "def forward(X,parameters):\n",
    "    # Unpacking parameters    \n",
    "    W1,b1,W2,b2,V,c = parameters\n",
    "    # Forward pass\n",
    "    a1 = X.dot(W1) + b1\n",
    "    H1 = relu(a1)\n",
    "    a2 = H1.dot(W2) + b2\n",
    "    H2 = relu(a2)\n",
    "    a3 = H2.dot(V) + c\n",
    "    Y_hat = softmax(a3)\n",
    "    return Y_hat"
   ]
  },
  {
   "cell_type": "code",
   "execution_count": 3,
   "metadata": {},
   "outputs": [],
   "source": [
    "# 3. Write out the function in python, call it ff nn 2 ReLu(...)\n",
    "def ff_nn_2_Relu(W1,b1,W2,b2,V,c,X):\n",
    "    pred_probs = forward(X,(W1,b1,W2,b2,V,c))\n",
    "    print('X :\\n{}\\nY_hat :\\n{}'.format(X, pred_probs))"
   ]
  },
  {
   "cell_type": "code",
   "execution_count": 4,
   "metadata": {},
   "outputs": [
    {
     "name": "stdout",
     "output_type": "stream",
     "text": [
      "X :\n",
      "[[ 1 -1]\n",
      " [ 0 -1]\n",
      " [ 0  1]]\n",
      "Y_hat :\n",
      "[[9.81135202e-01 8.94679497e-04 1.79701181e-02]\n",
      " [9.46499123e-01 6.37746092e-03 4.71234165e-02]\n",
      " [8.43794734e-01 4.20100661e-02 1.14195199e-01]]\n"
     ]
    }
   ],
   "source": [
    "# 4. Suppose you have the following set of weight matrices: \n",
    "# what are the class probabilities associated with the forward pass of each sample?\n",
    "W1 = np.array([[1,-1],[0,0],[0,0.5]]).T\n",
    "b1 = np.array([0,0,1])\n",
    "W2 = np.array([[1,-1,0],[-1,0,0]]).T\n",
    "b2 = np.array([1,-1])\n",
    "V = np.array([[1,0],[-1,1],[0,-1]]).T\n",
    "c = np.array([1,0,0])\n",
    "X = np.array([[1, 0, 0], [-1, -1, 1]]).T\n",
    "ff_nn_2_Relu(W1,b1,W2,b2,V,c,X)"
   ]
  }
 ],
 "metadata": {
  "kernelspec": {
   "display_name": "Python 2",
   "language": "python",
   "name": "python2"
  },
  "language_info": {
   "codemirror_mode": {
    "name": "ipython",
    "version": 2
   },
   "file_extension": ".py",
   "mimetype": "text/x-python",
   "name": "python",
   "nbconvert_exporter": "python",
   "pygments_lexer": "ipython2",
   "version": "2.7.15"
  }
 },
 "nbformat": 4,
 "nbformat_minor": 2
}
