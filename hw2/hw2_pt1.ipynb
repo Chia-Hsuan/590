{
 "cells": [
  {
   "cell_type": "code",
   "execution_count": 1,
   "metadata": {},
   "outputs": [
    {
     "name": "stderr",
     "output_type": "stream",
     "text": [
      "Using TensorFlow backend.\n"
     ]
    }
   ],
   "source": [
    "# modules\n",
    "import numpy as np\n",
    "import matplotlib.pyplot as plt\n",
    "from keras.datasets import fashion_mnist\n",
    "# Importing core neural networks layers \n",
    "from keras.layers import Dense, Dropout, Activation, Flatten, UpSampling2D\n",
    "# Importing CNN layers\n",
    "from keras.layers import Conv2D, MaxPooling2D, Input\n",
    "# Importing the sequential model in Keras\n",
    "# Used as a linear stack of nn layers\n",
    "from keras.models import Sequential, Model\n",
    "# Tools for data transformation\n",
    "from keras.utils import np_utils\n",
    "from keras.callbacks import EarlyStopping  "
   ]
  },
  {
   "cell_type": "markdown",
   "metadata": {},
   "source": [
    "# 1 Autoencoder\n",
    "\n",
    "A convolutional autoencoder is a particular flavor of autoencoder where we use convolutional layers instead of dense layers. We have previously applied autoencoders to images using only Dense layers and the result worked fairly well. However, the local spatial correlations of images imply that we should be able to do better using convolutional layers instead of Dense layers.<br/>&nbsp;&nbsp;Build and fit a convolutional autoencoder for the Fashion MNIST dataset. The components of this network will be many of the same pieces we’ve used with convolutional classification networks: Conv2D, MaxPooling, and so on. The encoder part of the network should run the input image through a few convolutional layers of your choice. The decoder part of the network will utilize UpSampling2D to get the representation back to the original image size.<br/>&nbsp;&nbsp;An example to guide your thinking can be found toward the bottom of this post https://blog.keras.io/building-autoencoders-in-keras.html.<br/>&nbsp;&nbsp;After training your network, visualize some examples of input images and their decoded reconstruction."
   ]
  },
  {
   "cell_type": "code",
   "execution_count": 2,
   "metadata": {},
   "outputs": [],
   "source": [
    "# Data Munging/Reshaping\n",
    "# Load pre-shuffled Fashion MNIST data into train and test sets\n",
    "(x_train, y_train), (x_test, y_test) = fashion_mnist.load_data()\n",
    "# Declaring a depth of 1 for MNIST\n",
    "x_train = x_train.reshape(x_train.shape[0], 28, 28,1)\n",
    "x_test = x_test.reshape(x_test.shape[0], 28, 28,1)\n",
    "# Setting up calues as float32s that are bounded between 0 and 1\n",
    "x_train = x_train.astype('float32')\n",
    "x_test = x_test.astype('float32')\n",
    "x_train /= 255\n",
    "x_test /= 255\n",
    "# Convert 1-dimensional class arrays to 10-dimensional class matrices\n",
    "y_train = np_utils.to_categorical(y_train, 10)\n",
    "y_test = np_utils.to_categorical(y_test, 10)"
   ]
  },
  {
   "cell_type": "code",
   "execution_count": 3,
   "metadata": {},
   "outputs": [],
   "source": [
    "input_img = Input(shape=(28, 28, 1))\n",
    "\n",
    "x = Conv2D(32, (3, 3), activation='relu', padding='same')(input_img)\n",
    "x = MaxPooling2D((2, 2), padding='same')(x)\n",
    "x = Conv2D(32, (3, 3), activation='relu', padding='same')(x)\n",
    "encoded = MaxPooling2D((2, 2), padding='same')(x)\n",
    "\n",
    "x = Conv2D(32, (3, 3), activation='relu', padding='same')(encoded)\n",
    "x = UpSampling2D((2, 2))(x)\n",
    "x = Conv2D(32, (3, 3), activation='relu', padding='same')(x)\n",
    "x = UpSampling2D((2, 2))(x)\n",
    "decoded = Conv2D(1, (3, 3), activation='sigmoid', padding='same')(x)\n",
    "\n",
    "autoencoder = Model(input_img, decoded)\n",
    "autoencoder.compile(optimizer='adadelta', loss='binary_crossentropy')"
   ]
  },
  {
   "cell_type": "code",
   "execution_count": 4,
   "metadata": {},
   "outputs": [
    {
     "name": "stdout",
     "output_type": "stream",
     "text": [
      "Train on 60000 samples, validate on 10000 samples\n",
      "Epoch 1/100\n",
      "60000/60000 [==============================] - 83s 1ms/step - loss: 0.3208 - val_loss: 0.2918\n",
      "Epoch 2/100\n",
      "60000/60000 [==============================] - 82s 1ms/step - loss: 0.2835 - val_loss: 0.2832\n",
      "Epoch 3/100\n",
      "60000/60000 [==============================] - 83s 1ms/step - loss: 0.2764 - val_loss: 0.2752\n",
      "Epoch 4/100\n",
      "60000/60000 [==============================] - 91s 2ms/step - loss: 0.2725 - val_loss: 0.2724\n",
      "Epoch 5/100\n",
      "60000/60000 [==============================] - 94s 2ms/step - loss: 0.2705 - val_loss: 0.2727\n",
      "Epoch 6/100\n",
      "60000/60000 [==============================] - 79s 1ms/step - loss: 0.2683 - val_loss: 0.2748\n",
      "Epoch 7/100\n",
      "60000/60000 [==============================] - 94s 2ms/step - loss: 0.2670 - val_loss: 0.2695\n",
      "Epoch 8/100\n",
      "60000/60000 [==============================] - 84s 1ms/step - loss: 0.2657 - val_loss: 0.2679\n",
      "Epoch 9/100\n",
      "60000/60000 [==============================] - 84s 1ms/step - loss: 0.2645 - val_loss: 0.2665\n",
      "Epoch 10/100\n",
      "60000/60000 [==============================] - 84s 1ms/step - loss: 0.2635 - val_loss: 0.2650\n",
      "Epoch 11/100\n",
      "60000/60000 [==============================] - 87s 1ms/step - loss: 0.2625 - val_loss: 0.2633\n",
      "Epoch 12/100\n",
      "60000/60000 [==============================] - 85s 1ms/step - loss: 0.2617 - val_loss: 0.2630\n",
      "Epoch 13/100\n",
      "60000/60000 [==============================] - 85s 1ms/step - loss: 0.2610 - val_loss: 0.2629\n",
      "Epoch 14/100\n",
      "60000/60000 [==============================] - 85s 1ms/step - loss: 0.2604 - val_loss: 0.2617\n",
      "Epoch 15/100\n",
      "60000/60000 [==============================] - 85s 1ms/step - loss: 0.2600 - val_loss: 0.2616\n",
      "Epoch 16/100\n",
      "60000/60000 [==============================] - 85s 1ms/step - loss: 0.2593 - val_loss: 0.2623\n",
      "Epoch 17/100\n",
      "60000/60000 [==============================] - 85s 1ms/step - loss: 0.2588 - val_loss: 0.2601\n",
      "Epoch 18/100\n",
      "60000/60000 [==============================] - 86s 1ms/step - loss: 0.2584 - val_loss: 0.2606\n",
      "Epoch 19/100\n",
      "60000/60000 [==============================] - 85s 1ms/step - loss: 0.2580 - val_loss: 0.2608\n",
      "Epoch 20/100\n",
      "60000/60000 [==============================] - 86s 1ms/step - loss: 0.2577 - val_loss: 0.2593\n",
      "Epoch 21/100\n",
      "60000/60000 [==============================] - 87s 1ms/step - loss: 0.2574 - val_loss: 0.2588\n",
      "Epoch 22/100\n",
      "60000/60000 [==============================] - 87s 1ms/step - loss: 0.2570 - val_loss: 0.2597\n",
      "Epoch 23/100\n",
      "60000/60000 [==============================] - 88s 1ms/step - loss: 0.2568 - val_loss: 0.2588\n",
      "Epoch 24/100\n",
      "60000/60000 [==============================] - 88s 1ms/step - loss: 0.2566 - val_loss: 0.2579\n",
      "Epoch 25/100\n",
      "60000/60000 [==============================] - 88s 1ms/step - loss: 0.2563 - val_loss: 0.2587\n",
      "Epoch 26/100\n",
      "60000/60000 [==============================] - 85s 1ms/step - loss: 0.2562 - val_loss: 0.2589\n",
      "Epoch 27/100\n",
      "60000/60000 [==============================] - 89s 1ms/step - loss: 0.2559 - val_loss: 0.2585\n",
      "Epoch 28/100\n",
      "60000/60000 [==============================] - 89s 1ms/step - loss: 0.2558 - val_loss: 0.2577\n",
      "Epoch 29/100\n",
      "60000/60000 [==============================] - 89s 1ms/step - loss: 0.2554 - val_loss: 0.2572\n",
      "Epoch 30/100\n",
      "60000/60000 [==============================] - 88s 1ms/step - loss: 0.2553 - val_loss: 0.2571\n",
      "Epoch 31/100\n",
      "60000/60000 [==============================] - 89s 1ms/step - loss: 0.2553 - val_loss: 0.2575\n",
      "Epoch 32/100\n",
      "60000/60000 [==============================] - 89s 1ms/step - loss: 0.2550 - val_loss: 0.2570\n",
      "Epoch 33/100\n",
      "60000/60000 [==============================] - 89s 1ms/step - loss: 0.2549 - val_loss: 0.2562\n",
      "Epoch 34/100\n",
      "60000/60000 [==============================] - 89s 1ms/step - loss: 0.2549 - val_loss: 0.2572\n",
      "Epoch 35/100\n",
      "60000/60000 [==============================] - 89s 1ms/step - loss: 0.2548 - val_loss: 0.2560\n",
      "Epoch 36/100\n",
      "60000/60000 [==============================] - 86s 1ms/step - loss: 0.2546 - val_loss: 0.2559\n",
      "Epoch 37/100\n",
      "60000/60000 [==============================] - 84s 1ms/step - loss: 0.2545 - val_loss: 0.2571\n",
      "Epoch 38/100\n",
      "60000/60000 [==============================] - 91s 2ms/step - loss: 0.2545 - val_loss: 0.2564\n",
      "Epoch 39/100\n",
      "60000/60000 [==============================] - 90s 1ms/step - loss: 0.2545 - val_loss: 0.2565\n",
      "Epoch 40/100\n",
      "60000/60000 [==============================] - 89s 1ms/step - loss: 0.2544 - val_loss: 0.2558\n",
      "Epoch 41/100\n",
      "60000/60000 [==============================] - 89s 1ms/step - loss: 0.2542 - val_loss: 0.2559\n",
      "Epoch 42/100\n",
      "60000/60000 [==============================] - 89s 1ms/step - loss: 0.2541 - val_loss: 0.2564\n",
      "Epoch 43/100\n",
      "60000/60000 [==============================] - 89s 1ms/step - loss: 0.2540 - val_loss: 0.2565\n",
      "Epoch 44/100\n",
      "60000/60000 [==============================] - 89s 1ms/step - loss: 0.2540 - val_loss: 0.2558\n",
      "Epoch 45/100\n",
      "60000/60000 [==============================] - 89s 1ms/step - loss: 0.2539 - val_loss: 0.2564\n",
      "Epoch 46/100\n",
      "60000/60000 [==============================] - 88s 1ms/step - loss: 0.2539 - val_loss: 0.2552\n",
      "Epoch 47/100\n",
      "60000/60000 [==============================] - 89s 1ms/step - loss: 0.2538 - val_loss: 0.2563\n",
      "Epoch 48/100\n",
      "60000/60000 [==============================] - 89s 1ms/step - loss: 0.2537 - val_loss: 0.2554\n",
      "Epoch 49/100\n",
      "60000/60000 [==============================] - 1293s 22ms/step - loss: 0.2536 - val_loss: 0.2556\n",
      "Epoch 50/100\n",
      "60000/60000 [==============================] - 91s 2ms/step - loss: 0.2536 - val_loss: 0.2555\n",
      "Epoch 51/100\n",
      "60000/60000 [==============================] - 88s 1ms/step - loss: 0.2535 - val_loss: 0.2557\n",
      "Epoch 52/100\n",
      "60000/60000 [==============================] - 90s 1ms/step - loss: 0.2535 - val_loss: 0.2562\n",
      "Epoch 53/100\n",
      "60000/60000 [==============================] - 90s 1ms/step - loss: 0.2535 - val_loss: 0.2559\n",
      "Epoch 00053: early stopping\n"
     ]
    }
   ],
   "source": [
    "# Train the model for 100 epochs\n",
    "history = autoencoder.fit(x_train, x_train,\n",
    "                epochs=100,\n",
    "                batch_size=128,\n",
    "                shuffle=True,\n",
    "                validation_data=(x_test, x_test),\n",
    "                callbacks=[EarlyStopping(monitor='val_loss', min_delta=0, patience=7, verbose=1, mode='auto')])"
   ]
  },
  {
   "cell_type": "code",
   "execution_count": 6,
   "metadata": {},
   "outputs": [
    {
     "data": {
      "image/png": "[encoded data removed]",
      "text/plain": [
       "<Figure size 432x288 with 1 Axes>"
      ]
     },
     "metadata": {},
     "output_type": "display_data"
    }
   ],
   "source": [
    "# Plot\n",
    "loss = history.history['loss']\n",
    "val_loss = history.history['val_loss']\n",
    "\n",
    "epochs = range(1,len(loss) + 1)\n",
    "plt.plot( epochs, loss, 'r', label = 'Training Loss')\n",
    "plt.plot( epochs, val_loss, 'b', label = 'Validation Loss')\n",
    "plt.title('Training and validation loss')\n",
    "plt.legend()\n",
    "plt.show()"
   ]
  },
  {
   "cell_type": "code",
   "execution_count": 9,
   "metadata": {},
   "outputs": [
    {
     "data": {
      "image/png": "[encoded data removed]",
      "text/plain": [
       "<Figure size 432x288 with 10 Axes>"
      ]
     },
     "metadata": {},
     "output_type": "display_data"
    }
   ],
   "source": [
    "# Reconstruction\n",
    "n = 5\n",
    "for k in range(n):\n",
    "    ax = plt.subplot(2, n, k+1)\n",
    "    plt.imshow(x_test[k:k+1,:].reshape((28,28)))\n",
    "    ax = plt.subplot(2, n, k+1 + n)\n",
    "    reconstruction = autoencoder.predict(x_test[k:k+1,:])\n",
    "    reconstruction.resize((28,28))\n",
    "    plt.imshow(reconstruction)"
   ]
  }
 ],
 "metadata": {
  "kernelspec": {
   "display_name": "Python 2",
   "language": "python",
   "name": "python2"
  },
  "language_info": {
   "codemirror_mode": {
    "name": "ipython",
    "version": 2
   },
   "file_extension": ".py",
   "mimetype": "text/x-python",
   "name": "python",
   "nbconvert_exporter": "python",
   "pygments_lexer": "ipython2",
   "version": "2.7.15"
  }
 },
 "nbformat": 4,
 "nbformat_minor": 2
}
