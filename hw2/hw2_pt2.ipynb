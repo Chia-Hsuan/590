{
 "cells": [
  {
   "cell_type": "code",
   "execution_count": 32,
   "metadata": {},
   "outputs": [],
   "source": [
    "# modules\n",
    "import numpy as np\n",
    "import matplotlib.pyplot as plt\n",
    "from keras.datasets import fashion_mnist\n",
    "# Importing core neural networks layers \n",
    "from keras.layers import Dense, Dropout, Activation, Flatten, UpSampling2D\n",
    "# Importing CNN layers\n",
    "from keras.layers import Conv2D, MaxPooling2D, Input\n",
    "# Importing the sequential model in Keras\n",
    "# Used as a linear stack of nn layers\n",
    "from keras.models import Sequential, Model\n",
    "# Tools for data transformation\n",
    "from keras.utils import np_utils\n",
    "from keras.callbacks import EarlyStopping\n",
    "from keras.applications import VGG16\n",
    "from keras.optimizers import RMSprop\n",
    "from keras.preprocessing.image import img_to_array\n",
    "from keras.preprocessing.image import array_to_img"
   ]
  },
  {
   "cell_type": "markdown",
   "metadata": {},
   "source": [
    "# 2 Image Classification\n",
    "We’ll continue to use the Fashion MNIST dataset and build a deep convolutional network for classification.\n",
    "## 2.1 Deep CNN\n",
    "Build a deep CNN to classify the images. Provide a brief description of the architectural choices you’ve made: kernel sizes, strides, padding, network depth. Train your network end-to-end. Report on your model’s performance on training set and test set.\n",
    "## 2.2 Transfer Learning\n",
    "Repeat the same task, but this time utilize a pre-trained network for the major- ity of your model. You should only train the final Dense layer, all other weights should be fixed. You can use whichever pre-trained backbone you like (ResNet, VGG, etc). Report on your model’s performance on training set and test set."
   ]
  },
  {
   "cell_type": "code",
   "execution_count": 2,
   "metadata": {},
   "outputs": [],
   "source": [
    "# 2.1 Deep CNN\n",
    "\n",
    "# Data Munging/Reshaping\n",
    "# Load pre-shuffled Fashion MNIST data into train and test sets\n",
    "(x_train, y_train), (x_test, y_test) = fashion_mnist.load_data()\n",
    "# Declaring a depth of 1 for MNIST\n",
    "x_train = x_train.reshape(x_train.shape[0], 28, 28,1)\n",
    "x_test = x_test.reshape(x_test.shape[0], 28, 28,1)\n",
    "# Setting up calues as float32s that are bounded between 0 and 1\n",
    "x_train = x_train.astype('float32')\n",
    "x_test = x_test.astype('float32')\n",
    "x_train /= 255\n",
    "x_test /= 255\n",
    "# Convert 1-dimensional class arrays to 10-dimensional class matrices\n",
    "y_train = np_utils.to_categorical(y_train, 10)\n",
    "y_test = np_utils.to_categorical(y_test, 10)"
   ]
  },
  {
   "cell_type": "code",
   "execution_count": 3,
   "metadata": {},
   "outputs": [
    {
     "name": "stdout",
     "output_type": "stream",
     "text": [
      "_________________________________________________________________\n",
      "Layer (type)                 Output Shape              Param #   \n",
      "=================================================================\n",
      "conv2d_1 (Conv2D)            (None, 26, 26, 32)        320       \n",
      "_________________________________________________________________\n",
      "conv2d_2 (Conv2D)            (None, 24, 24, 32)        9248      \n",
      "_________________________________________________________________\n",
      "max_pooling2d_1 (MaxPooling2 (None, 12, 12, 32)        0         \n",
      "_________________________________________________________________\n",
      "dropout_1 (Dropout)          (None, 12, 12, 32)        0         \n",
      "_________________________________________________________________\n",
      "flatten_1 (Flatten)          (None, 4608)              0         \n",
      "_________________________________________________________________\n",
      "dense_1 (Dense)              (None, 64)                294976    \n",
      "_________________________________________________________________\n",
      "dropout_2 (Dropout)          (None, 64)                0         \n",
      "_________________________________________________________________\n",
      "dense_2 (Dense)              (None, 10)                650       \n",
      "=================================================================\n",
      "Total params: 305,194\n",
      "Trainable params: 305,194\n",
      "Non-trainable params: 0\n",
      "_________________________________________________________________\n",
      "None\n"
     ]
    }
   ],
   "source": [
    "# Declaring sequential model\n",
    "model = Sequential()\n",
    "# CNN input layer: input_shape: (depth,width,height)\n",
    "# CNN convolution: number of filters, height and width of kernel\n",
    "model.add(Conv2D(filters = 32,kernel_size=(3, 3), \n",
    "                 activation='relu', strides=(1, 1), \n",
    "                 padding='valid',\n",
    "                 input_shape=(28,28,1)))\n",
    "model.add(Conv2D(filters = 32,kernel_size=(3, 3), \n",
    "                 activation='relu', strides=(1, 1), \n",
    "                 padding='valid', input_shape=(28,28,1)))\n",
    "model.add(MaxPooling2D(pool_size=(2,2)))\n",
    "model.add(Dropout(0.25))\n",
    "# Setting up the fully connected lauer\n",
    "model.add(Flatten())\n",
    "model.add(Dense(64, activation='relu'))\n",
    "model.add(Dropout(0.5))\n",
    "model.add(Dense(10, activation='softmax'))\n",
    "print(model.summary())"
   ]
  },
  {
   "cell_type": "code",
   "execution_count": 4,
   "metadata": {},
   "outputs": [
    {
     "name": "stdout",
     "output_type": "stream",
     "text": [
      "Train on 60000 samples, validate on 10000 samples\n",
      "Epoch 1/100\n",
      "60000/60000 [==============================] - 95s 2ms/step - loss: 0.6488 - acc: 0.7746 - val_loss: 0.3927 - val_acc: 0.8603\n",
      "Epoch 2/100\n",
      "60000/60000 [==============================] - 94s 2ms/step - loss: 0.4289 - acc: 0.8495 - val_loss: 0.3302 - val_acc: 0.8828\n",
      "Epoch 3/100\n",
      "60000/60000 [==============================] - 94s 2ms/step - loss: 0.3757 - acc: 0.8668 - val_loss: 0.3015 - val_acc: 0.8942\n",
      "Epoch 4/100\n",
      "60000/60000 [==============================] - 91s 2ms/step - loss: 0.3434 - acc: 0.8761 - val_loss: 0.2869 - val_acc: 0.8994\n",
      "Epoch 5/100\n",
      "60000/60000 [==============================] - 93s 2ms/step - loss: 0.3203 - acc: 0.8861 - val_loss: 0.2642 - val_acc: 0.9035\n",
      "Epoch 6/100\n",
      "60000/60000 [==============================] - 92s 2ms/step - loss: 0.3004 - acc: 0.8933 - val_loss: 0.2504 - val_acc: 0.9091\n",
      "Epoch 7/100\n",
      "60000/60000 [==============================] - 93s 2ms/step - loss: 0.2874 - acc: 0.8967 - val_loss: 0.2448 - val_acc: 0.9130\n",
      "Epoch 8/100\n",
      "60000/60000 [==============================] - 91s 2ms/step - loss: 0.2696 - acc: 0.9003 - val_loss: 0.2392 - val_acc: 0.9142\n",
      "Epoch 9/100\n",
      "60000/60000 [==============================] - 91s 2ms/step - loss: 0.2608 - acc: 0.9044 - val_loss: 0.2370 - val_acc: 0.9165\n",
      "Epoch 10/100\n",
      "60000/60000 [==============================] - 92s 2ms/step - loss: 0.2492 - acc: 0.9071 - val_loss: 0.2358 - val_acc: 0.9170\n",
      "Epoch 11/100\n",
      "60000/60000 [==============================] - 93s 2ms/step - loss: 0.2424 - acc: 0.9115 - val_loss: 0.2279 - val_acc: 0.9178\n",
      "Epoch 12/100\n",
      "60000/60000 [==============================] - 95s 2ms/step - loss: 0.2329 - acc: 0.9149 - val_loss: 0.2322 - val_acc: 0.9173\n",
      "Epoch 13/100\n",
      "60000/60000 [==============================] - 103s 2ms/step - loss: 0.2304 - acc: 0.9146 - val_loss: 0.2302 - val_acc: 0.9197\n",
      "Epoch 14/100\n",
      "60000/60000 [==============================] - 79s 1ms/step - loss: 0.2192 - acc: 0.9187 - val_loss: 0.2265 - val_acc: 0.9192\n",
      "Epoch 15/100\n",
      "60000/60000 [==============================] - 64s 1ms/step - loss: 0.2144 - acc: 0.9203 - val_loss: 0.2236 - val_acc: 0.9211\n",
      "Epoch 16/100\n",
      "60000/60000 [==============================] - 69s 1ms/step - loss: 0.2091 - acc: 0.9205 - val_loss: 0.2238 - val_acc: 0.9194\n",
      "Epoch 17/100\n",
      "60000/60000 [==============================] - 66s 1ms/step - loss: 0.2048 - acc: 0.9235 - val_loss: 0.2226 - val_acc: 0.9237\n",
      "Epoch 18/100\n",
      "60000/60000 [==============================] - 63s 1ms/step - loss: 0.1998 - acc: 0.9254 - val_loss: 0.2270 - val_acc: 0.9212\n",
      "Epoch 19/100\n",
      "60000/60000 [==============================] - 65s 1ms/step - loss: 0.1914 - acc: 0.9277 - val_loss: 0.2240 - val_acc: 0.9214\n",
      "Epoch 20/100\n",
      "60000/60000 [==============================] - 61s 1ms/step - loss: 0.1922 - acc: 0.9276 - val_loss: 0.2251 - val_acc: 0.9250\n",
      "Epoch 21/100\n",
      "60000/60000 [==============================] - 63s 1ms/step - loss: 0.1851 - acc: 0.9304 - val_loss: 0.2345 - val_acc: 0.9172\n",
      "Epoch 22/100\n",
      "60000/60000 [==============================] - 64s 1ms/step - loss: 0.1843 - acc: 0.9302 - val_loss: 0.2228 - val_acc: 0.9257\n",
      "Epoch 23/100\n",
      "60000/60000 [==============================] - 64s 1ms/step - loss: 0.1787 - acc: 0.9326 - val_loss: 0.2270 - val_acc: 0.9229\n",
      "Epoch 24/100\n",
      "60000/60000 [==============================] - 62s 1ms/step - loss: 0.1749 - acc: 0.9337 - val_loss: 0.2213 - val_acc: 0.9265\n",
      "Epoch 25/100\n",
      "60000/60000 [==============================] - 62s 1ms/step - loss: 0.1724 - acc: 0.9344 - val_loss: 0.2265 - val_acc: 0.9253\n",
      "Epoch 26/100\n",
      "60000/60000 [==============================] - 63s 1ms/step - loss: 0.1711 - acc: 0.9345 - val_loss: 0.2247 - val_acc: 0.9228\n",
      "Epoch 27/100\n",
      "60000/60000 [==============================] - 67s 1ms/step - loss: 0.1671 - acc: 0.9343 - val_loss: 0.2344 - val_acc: 0.9231\n",
      "Epoch 28/100\n",
      "60000/60000 [==============================] - 66s 1ms/step - loss: 0.1629 - acc: 0.9377 - val_loss: 0.2309 - val_acc: 0.9253\n",
      "Epoch 29/100\n",
      "60000/60000 [==============================] - 66s 1ms/step - loss: 0.1633 - acc: 0.9373 - val_loss: 0.2276 - val_acc: 0.9248\n",
      "Epoch 30/100\n",
      "60000/60000 [==============================] - 68s 1ms/step - loss: 0.1605 - acc: 0.9382 - val_loss: 0.2467 - val_acc: 0.9225\n",
      "Epoch 31/100\n",
      "60000/60000 [==============================] - 67s 1ms/step - loss: 0.1583 - acc: 0.9390 - val_loss: 0.2407 - val_acc: 0.9231\n",
      "Epoch 00031: early stopping\n"
     ]
    }
   ],
   "source": [
    "#  Compiling the model\n",
    "model.compile(loss='categorical_crossentropy',\n",
    "              optimizer='adam',\n",
    "              metrics=['accuracy'])\n",
    "# Fitting the model\n",
    "history = model.fit(x_train, y_train,\n",
    "                    epochs=100,\n",
    "                    batch_size=128,\n",
    "                    shuffle=True,\n",
    "                    validation_data=(x_test, y_test),\n",
    "                    callbacks=[EarlyStopping(monitor='val_loss', min_delta=0, patience=7, verbose=1, mode='auto')])"
   ]
  },
  {
   "cell_type": "code",
   "execution_count": 5,
   "metadata": {},
   "outputs": [
    {
     "name": "stdout",
     "output_type": "stream",
     "text": [
      "10000/10000 [==============================] - 3s 252us/step\n",
      "[0.24069012755155564, 0.9231]\n"
     ]
    }
   ],
   "source": [
    "#  Evaluating the model\n",
    "score = model.evaluate(x_test, y_test, verbose=1)\n",
    "print(score)"
   ]
  },
  {
   "cell_type": "code",
   "execution_count": 6,
   "metadata": {},
   "outputs": [
    {
     "data": {
      "image/png": "[encoded data removed]",
      "text/plain": [
       "<Figure size 432x288 with 1 Axes>"
      ]
     },
     "metadata": {},
     "output_type": "display_data"
    }
   ],
   "source": [
    "# Plot\n",
    "loss = history.history['loss']\n",
    "val_loss = history.history['val_loss']\n",
    "epochs = range(1,len(loss) + 1)\n",
    "plt.plot( epochs, loss, 'r', label = 'Training Loss')\n",
    "plt.plot( epochs, val_loss, 'b', label = 'Validation Loss')\n",
    "plt.title('Training and validation loss')\n",
    "plt.legend()\n",
    "plt.show()"
   ]
  },
  {
   "cell_type": "code",
   "execution_count": 49,
   "metadata": {},
   "outputs": [],
   "source": [
    "# 2.2 Transfer Learning\n",
    "# Data Munging/Reshaping\n",
    "# Load pre-shuffled Fashion MNIST data into train and test sets\n",
    "(x_train, y_train), (x_test, y_test) = fashion_mnist.load_data()\n",
    "# Declaring a depth of 1 for MNIST\n",
    "x_train = x_train.reshape(x_train.shape[0], 784)\n",
    "x_test = x_test.reshape(x_test.shape[0], 784)\n",
    "# Setting up calues as float32s that are bounded between 0 and 1\n",
    "x_train = x_train.astype('float32')\n",
    "x_test = x_test.astype('float32')\n",
    "x_train = np.dstack([x_train] * 3)\n",
    "x_test = np.dstack([x_test] * 3)\n",
    "x_train = x_train.reshape(x_train.shape[0], 28, 28, 3)\n",
    "x_test = x_test.reshape(x_test.shape[0], 28, 28, 3)\n",
    "x_train = x_train.astype('float32')\n",
    "x_test = x_test.astype('float32')\n",
    "x_train = np.asarray([img_to_array(array_to_img(im, scale=False).resize((48,48))) for im in x_train])\n",
    "x_test = np.asarray([img_to_array(array_to_img(im, scale=False).resize((48,48))) for im in x_test])\n",
    "x_train /= 255\n",
    "x_test /= 255\n",
    "# Convert 1-dimensional class arrays to 10-dimensional class matrices\n",
    "y_train = np_utils.to_categorical(y_train, 10)\n",
    "y_test = np_utils.to_categorical(y_test, 10)"
   ]
  },
  {
   "cell_type": "code",
   "execution_count": null,
   "metadata": {},
   "outputs": [
    {
     "name": "stdout",
     "output_type": "stream",
     "text": [
      "10240/60000 [====>.........................] - ETA: 8:05"
     ]
    }
   ],
   "source": [
    "# Transfer Learning with VGG backbone\n",
    "conv_base = VGG16(weights=\"imagenet\",\n",
    "                  include_top=False,\n",
    "                  input_shape=(48,48,3))\n",
    "# Extract features\n",
    "train_features = conv_base.predict(np.array(x_train), batch_size=16, verbose=1)\n",
    "test_features = conv_base.predict(np.array(x_test), batch_size=16, verbose=1)\n",
    "\n",
    "# Build a model\n",
    "model = Sequential()\n",
    "model.add(conv_base)\n",
    "model.add(Flatten())\n",
    "model.add(Dense(256, activation=\"relu\"))\n",
    "model.add(Dense(10, activation=\"sigmoid\"))\n",
    "model.summary()"
   ]
  },
  {
   "cell_type": "code",
   "execution_count": null,
   "metadata": {},
   "outputs": [],
   "source": [
    "model.trainable_weights"
   ]
  },
  {
   "cell_type": "code",
   "execution_count": 46,
   "metadata": {},
   "outputs": [],
   "source": [
    "# Freezing the weights for transfer learning\n",
    "conv_base.trainable = False"
   ]
  },
  {
   "cell_type": "code",
   "execution_count": 47,
   "metadata": {},
   "outputs": [
    {
     "data": {
      "text/plain": [
       "[<tf.Variable 'dense_13/kernel:0' shape=(512, 256) dtype=float32_ref>,\n",
       " <tf.Variable 'dense_13/bias:0' shape=(256,) dtype=float32_ref>,\n",
       " <tf.Variable 'dense_14/kernel:0' shape=(256, 10) dtype=float32_ref>,\n",
       " <tf.Variable 'dense_14/bias:0' shape=(10,) dtype=float32_ref>]"
      ]
     },
     "execution_count": 47,
     "metadata": {},
     "output_type": "execute_result"
    }
   ],
   "source": [
    "model.trainable_weights"
   ]
  },
  {
   "cell_type": "code",
   "execution_count": 48,
   "metadata": {},
   "outputs": [
    {
     "name": "stdout",
     "output_type": "stream",
     "text": [
      "Train on 60000 samples, validate on 10000 samples\n",
      "Epoch 1/100\n",
      " 4736/60000 [=>............................] - ETA: 10:00 - loss: 0.5529 - acc: 0.7480"
     ]
    },
    {
     "ename": "KeyboardInterrupt",
     "evalue": "",
     "output_type": "error",
     "traceback": [
      "\u001b[0;31m---------------------------------------------------------------------------\u001b[0m",
      "\u001b[0;31mKeyboardInterrupt\u001b[0m                         Traceback (most recent call last)",
      "\u001b[0;32m<ipython-input-48-ffc0242aa49c>\u001b[0m in \u001b[0;36m<module>\u001b[0;34m()\u001b[0m\n\u001b[1;32m      9\u001b[0m                     \u001b[0mshuffle\u001b[0m\u001b[0;34m=\u001b[0m\u001b[0mTrue\u001b[0m\u001b[0;34m,\u001b[0m\u001b[0;34m\u001b[0m\u001b[0m\n\u001b[1;32m     10\u001b[0m                     \u001b[0mvalidation_data\u001b[0m\u001b[0;34m=\u001b[0m\u001b[0;34m(\u001b[0m\u001b[0mx_test\u001b[0m\u001b[0;34m,\u001b[0m \u001b[0my_test\u001b[0m\u001b[0;34m)\u001b[0m\u001b[0;34m,\u001b[0m\u001b[0;34m\u001b[0m\u001b[0m\n\u001b[0;32m---> 11\u001b[0;31m                     callbacks=[EarlyStopping(monitor='val_loss', min_delta=0, patience=7, verbose=1, mode='auto')])\n\u001b[0m",
      "\u001b[0;32m/anaconda2/lib/python2.7/site-packages/keras/engine/training.pyc\u001b[0m in \u001b[0;36mfit\u001b[0;34m(self, x, y, batch_size, epochs, verbose, callbacks, validation_split, validation_data, shuffle, class_weight, sample_weight, initial_epoch, steps_per_epoch, validation_steps, **kwargs)\u001b[0m\n\u001b[1;32m   1037\u001b[0m                                         \u001b[0minitial_epoch\u001b[0m\u001b[0;34m=\u001b[0m\u001b[0minitial_epoch\u001b[0m\u001b[0;34m,\u001b[0m\u001b[0;34m\u001b[0m\u001b[0m\n\u001b[1;32m   1038\u001b[0m                                         \u001b[0msteps_per_epoch\u001b[0m\u001b[0;34m=\u001b[0m\u001b[0msteps_per_epoch\u001b[0m\u001b[0;34m,\u001b[0m\u001b[0;34m\u001b[0m\u001b[0m\n\u001b[0;32m-> 1039\u001b[0;31m                                         validation_steps=validation_steps)\n\u001b[0m\u001b[1;32m   1040\u001b[0m \u001b[0;34m\u001b[0m\u001b[0m\n\u001b[1;32m   1041\u001b[0m     def evaluate(self, x=None, y=None,\n",
      "\u001b[0;32m/anaconda2/lib/python2.7/site-packages/keras/engine/training_arrays.pyc\u001b[0m in \u001b[0;36mfit_loop\u001b[0;34m(model, f, ins, out_labels, batch_size, epochs, verbose, callbacks, val_f, val_ins, shuffle, callback_metrics, initial_epoch, steps_per_epoch, validation_steps)\u001b[0m\n\u001b[1;32m    197\u001b[0m                     \u001b[0mins_batch\u001b[0m\u001b[0;34m[\u001b[0m\u001b[0mi\u001b[0m\u001b[0;34m]\u001b[0m \u001b[0;34m=\u001b[0m \u001b[0mins_batch\u001b[0m\u001b[0;34m[\u001b[0m\u001b[0mi\u001b[0m\u001b[0;34m]\u001b[0m\u001b[0;34m.\u001b[0m\u001b[0mtoarray\u001b[0m\u001b[0;34m(\u001b[0m\u001b[0;34m)\u001b[0m\u001b[0;34m\u001b[0m\u001b[0m\n\u001b[1;32m    198\u001b[0m \u001b[0;34m\u001b[0m\u001b[0m\n\u001b[0;32m--> 199\u001b[0;31m                 \u001b[0mouts\u001b[0m \u001b[0;34m=\u001b[0m \u001b[0mf\u001b[0m\u001b[0;34m(\u001b[0m\u001b[0mins_batch\u001b[0m\u001b[0;34m)\u001b[0m\u001b[0;34m\u001b[0m\u001b[0m\n\u001b[0m\u001b[1;32m    200\u001b[0m                 \u001b[0mouts\u001b[0m \u001b[0;34m=\u001b[0m \u001b[0mto_list\u001b[0m\u001b[0;34m(\u001b[0m\u001b[0mouts\u001b[0m\u001b[0;34m)\u001b[0m\u001b[0;34m\u001b[0m\u001b[0m\n\u001b[1;32m    201\u001b[0m                 \u001b[0;32mfor\u001b[0m \u001b[0ml\u001b[0m\u001b[0;34m,\u001b[0m \u001b[0mo\u001b[0m \u001b[0;32min\u001b[0m \u001b[0mzip\u001b[0m\u001b[0;34m(\u001b[0m\u001b[0mout_labels\u001b[0m\u001b[0;34m,\u001b[0m \u001b[0mouts\u001b[0m\u001b[0;34m)\u001b[0m\u001b[0;34m:\u001b[0m\u001b[0;34m\u001b[0m\u001b[0m\n",
      "\u001b[0;32m/anaconda2/lib/python2.7/site-packages/keras/backend/tensorflow_backend.pyc\u001b[0m in \u001b[0;36m__call__\u001b[0;34m(self, inputs)\u001b[0m\n\u001b[1;32m   2713\u001b[0m                 \u001b[0;32mreturn\u001b[0m \u001b[0mself\u001b[0m\u001b[0;34m.\u001b[0m\u001b[0m_legacy_call\u001b[0m\u001b[0;34m(\u001b[0m\u001b[0minputs\u001b[0m\u001b[0;34m)\u001b[0m\u001b[0;34m\u001b[0m\u001b[0m\n\u001b[1;32m   2714\u001b[0m \u001b[0;34m\u001b[0m\u001b[0m\n\u001b[0;32m-> 2715\u001b[0;31m             \u001b[0;32mreturn\u001b[0m \u001b[0mself\u001b[0m\u001b[0;34m.\u001b[0m\u001b[0m_call\u001b[0m\u001b[0;34m(\u001b[0m\u001b[0minputs\u001b[0m\u001b[0;34m)\u001b[0m\u001b[0;34m\u001b[0m\u001b[0m\n\u001b[0m\u001b[1;32m   2716\u001b[0m         \u001b[0;32melse\u001b[0m\u001b[0;34m:\u001b[0m\u001b[0;34m\u001b[0m\u001b[0m\n\u001b[1;32m   2717\u001b[0m             \u001b[0;32mif\u001b[0m \u001b[0mpy_any\u001b[0m\u001b[0;34m(\u001b[0m\u001b[0mis_tensor\u001b[0m\u001b[0;34m(\u001b[0m\u001b[0mx\u001b[0m\u001b[0;34m)\u001b[0m \u001b[0;32mfor\u001b[0m \u001b[0mx\u001b[0m \u001b[0;32min\u001b[0m \u001b[0minputs\u001b[0m\u001b[0;34m)\u001b[0m\u001b[0;34m:\u001b[0m\u001b[0;34m\u001b[0m\u001b[0m\n",
      "\u001b[0;32m/anaconda2/lib/python2.7/site-packages/keras/backend/tensorflow_backend.pyc\u001b[0m in \u001b[0;36m_call\u001b[0;34m(self, inputs)\u001b[0m\n\u001b[1;32m   2673\u001b[0m             \u001b[0mfetched\u001b[0m \u001b[0;34m=\u001b[0m \u001b[0mself\u001b[0m\u001b[0;34m.\u001b[0m\u001b[0m_callable_fn\u001b[0m\u001b[0;34m(\u001b[0m\u001b[0;34m*\u001b[0m\u001b[0marray_vals\u001b[0m\u001b[0;34m,\u001b[0m \u001b[0mrun_metadata\u001b[0m\u001b[0;34m=\u001b[0m\u001b[0mself\u001b[0m\u001b[0;34m.\u001b[0m\u001b[0mrun_metadata\u001b[0m\u001b[0;34m)\u001b[0m\u001b[0;34m\u001b[0m\u001b[0m\n\u001b[1;32m   2674\u001b[0m         \u001b[0;32melse\u001b[0m\u001b[0;34m:\u001b[0m\u001b[0;34m\u001b[0m\u001b[0m\n\u001b[0;32m-> 2675\u001b[0;31m             \u001b[0mfetched\u001b[0m \u001b[0;34m=\u001b[0m \u001b[0mself\u001b[0m\u001b[0;34m.\u001b[0m\u001b[0m_callable_fn\u001b[0m\u001b[0;34m(\u001b[0m\u001b[0;34m*\u001b[0m\u001b[0marray_vals\u001b[0m\u001b[0;34m)\u001b[0m\u001b[0;34m\u001b[0m\u001b[0m\n\u001b[0m\u001b[1;32m   2676\u001b[0m         \u001b[0;32mreturn\u001b[0m \u001b[0mfetched\u001b[0m\u001b[0;34m[\u001b[0m\u001b[0;34m:\u001b[0m\u001b[0mlen\u001b[0m\u001b[0;34m(\u001b[0m\u001b[0mself\u001b[0m\u001b[0;34m.\u001b[0m\u001b[0moutputs\u001b[0m\u001b[0;34m)\u001b[0m\u001b[0;34m]\u001b[0m\u001b[0;34m\u001b[0m\u001b[0m\n\u001b[1;32m   2677\u001b[0m \u001b[0;34m\u001b[0m\u001b[0m\n",
      "\u001b[0;32m/anaconda2/lib/python2.7/site-packages/tensorflow/python/client/session.pyc\u001b[0m in \u001b[0;36m__call__\u001b[0;34m(self, *args, **kwargs)\u001b[0m\n\u001b[1;32m   1380\u001b[0m           ret = tf_session.TF_SessionRunCallable(\n\u001b[1;32m   1381\u001b[0m               \u001b[0mself\u001b[0m\u001b[0;34m.\u001b[0m\u001b[0m_session\u001b[0m\u001b[0;34m.\u001b[0m\u001b[0m_session\u001b[0m\u001b[0;34m,\u001b[0m \u001b[0mself\u001b[0m\u001b[0;34m.\u001b[0m\u001b[0m_handle\u001b[0m\u001b[0;34m,\u001b[0m \u001b[0margs\u001b[0m\u001b[0;34m,\u001b[0m \u001b[0mstatus\u001b[0m\u001b[0;34m,\u001b[0m\u001b[0;34m\u001b[0m\u001b[0m\n\u001b[0;32m-> 1382\u001b[0;31m               run_metadata_ptr)\n\u001b[0m\u001b[1;32m   1383\u001b[0m         \u001b[0;32mif\u001b[0m \u001b[0mrun_metadata\u001b[0m\u001b[0;34m:\u001b[0m\u001b[0;34m\u001b[0m\u001b[0m\n\u001b[1;32m   1384\u001b[0m           \u001b[0mproto_data\u001b[0m \u001b[0;34m=\u001b[0m \u001b[0mtf_session\u001b[0m\u001b[0;34m.\u001b[0m\u001b[0mTF_GetBuffer\u001b[0m\u001b[0;34m(\u001b[0m\u001b[0mrun_metadata_ptr\u001b[0m\u001b[0;34m)\u001b[0m\u001b[0;34m\u001b[0m\u001b[0m\n",
      "\u001b[0;31mKeyboardInterrupt\u001b[0m: "
     ]
    }
   ],
   "source": [
    "# Compile the model\n",
    "model.compile(loss=\"binary_crossentropy\", \n",
    "              optimizer=RMSprop(1e-4),\n",
    "              metrics=[\"acc\"])\n",
    "# Train the model\n",
    "history = model.fit(np.reshape(train_features, (60000, 1*1*512)), \n",
    "                    y_train,\n",
    "                    epochs=100,\n",
    "                    batch_size=128,\n",
    "                    shuffle=True,\n",
    "                    validation_data=(x_test, y_test),\n",
    "                    callbacks=[EarlyStopping(monitor='val_loss', min_delta=0, patience=7, verbose=1, mode='auto')])"
   ]
  },
  {
   "cell_type": "code",
   "execution_count": null,
   "metadata": {},
   "outputs": [],
   "source": [
    "#  Evaluating the model\n",
    "score = model.evaluate(np.reshape(test_features, (10000, 1*1*512)), y_test, verbose=1)\n",
    "print(score)"
   ]
  },
  {
   "cell_type": "code",
   "execution_count": null,
   "metadata": {},
   "outputs": [],
   "source": [
    "# Plot\n",
    "acc = history.history['acc']\n",
    "val_acc = history.history['val_acc']\n",
    "loss = history.history['loss']\n",
    "val_loss = history.history['val_loss']\n",
    "\n",
    "# Training + Valdiation Accuracy\n",
    "epochs = range(1,len(acc) + 1)\n",
    "plt.plot( epochs, acc, 'r', label = 'Training Accuracy')\n",
    "plt.plot( epochs, val_acc, 'b', label = 'Validation Accuracy')\n",
    "plt.title('Training and validation accuracy')\n",
    "plt.legend()\n",
    "plt.figure()\n",
    "\n",
    "# Training + Validation Loss\n",
    "epochs = range(1,len(loss) + 1)\n",
    "plt.plot( epochs, loss, 'r', label = 'Training Loss')\n",
    "plt.plot( epochs, val_loss, 'b', label = 'Validation Loss')\n",
    "plt.title('Training and validation loss')\n",
    "plt.legend()\n",
    "plt.show()"
   ]
  }
 ],
 "metadata": {
  "kernelspec": {
   "display_name": "Python 2",
   "language": "python",
   "name": "python2"
  },
  "language_info": {
   "codemirror_mode": {
    "name": "ipython",
    "version": 2
   },
   "file_extension": ".py",
   "mimetype": "text/x-python",
   "name": "python",
   "nbconvert_exporter": "python",
   "pygments_lexer": "ipython2",
   "version": "2.7.15"
  }
 },
 "nbformat": 4,
 "nbformat_minor": 2
}
