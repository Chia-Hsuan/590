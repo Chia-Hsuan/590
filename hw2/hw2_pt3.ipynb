{
 "cells": [
  {
   "cell_type": "code",
   "execution_count": 134,
   "metadata": {},
   "outputs": [],
   "source": [
    "# modules\n",
    "import numpy as np\n",
    "import pandas as pd\n",
    "import matplotlib.pyplot as plt\n",
    "from keras import regularizers, backend\n",
    "from keras.datasets import fashion_mnist\n",
    "# Importing core neural networks layers \n",
    "from keras.layers import Dense, Dropout, Activation, Flatten, UpSampling2D, BatchNormalization, Lambda\n",
    "# Importing CNN layers\n",
    "from keras.layers import Conv2D, Conv1D, MaxPooling2D, MaxPooling1D, Input, Embedding, LSTM, ELU\n",
    "# Importing the sequential model in Keras\n",
    "# Used as a linear stack of nn layers\n",
    "from keras.models import Sequential, Model\n",
    "# Tools for data transformation\n",
    "from keras.utils import np_utils\n",
    "from keras.callbacks import EarlyStopping\n",
    "from keras.applications import VGG16\n",
    "from keras.optimizers import RMSprop\n",
    "from keras.preprocessing.image import img_to_array, array_to_img\n",
    "from keras.preprocessing.sequence import pad_sequences\n",
    "from string import printable\n",
    "from sklearn.model_selection import train_test_split"
   ]
  },
  {
   "cell_type": "markdown",
   "metadata": {},
   "source": [
    "# 3 Text Classification\n",
    "While images contain local spatial correlations and structure, many other datasets contain temporal correlations. Examples include time series and discrete se- quences such as text. In this problem, we will tackle the task of text classifica- tion in the context of cybersecurity.<br/>\n",
    "&nbsp;&nbsp;<b>Background.</b> When malware infects a host computer, it often needs to reach out to an outside server for further instructions or to download additional payloads. This outside server is called a Command-and-Control server (C2). The malware needs to send a specific communication to the C2 server, thus the C2 server needs to have a registered IP address or associated web domain so that it can be reached. Therefore, being able to identify web domains that are likely related to malware C2 can be a valuable cyber defense.<br/>\n",
    "&nbsp;&nbsp;<b>Dataset.</b> Fortunately, security researchers have already identified and logged a large number of malicious URLs. Additionally, we can catalog common ”be- nign” URLs just from typical web behavior (these would include things like facebook.com and amazon.com). Hence, we have a labeled dataset for text classification which can be downloaded here:\n",
    "<br/>• https://s3.amazonaws.com/anly-590/url-classification/benign-urls.txt\n",
    "<br/>• https://s3.amazonaws.com/anly-590/url-classification/malicious-urls.txt\n",
    "## 3.1 RNN\n",
    "Build and train a Recurrent Neural Network to solve this text classification task. You can use any type of RNN you wish (SimpleRNN, GRU, LSTM).\n",
    "## 3.2 CNN\n",
    "Build and train a 1D CNN for this text classification task. You might gain some insight and inspiration from these text classification approaches:\n",
    "<br/>• http://www.aclweb.org/anthology/D14-1181 \n",
    "<br/>• https://arxiv.org/abs/1702.08568\n",
    "## 3.3\n",
    "Be sure to directly compare your two methods with an ROC curve or similar validation method. Don’t forget to create a train-test split."
   ]
  },
  {
   "cell_type": "code",
   "execution_count": 17,
   "metadata": {},
   "outputs": [],
   "source": [
    "# 3.1 RNN\n",
    "\n",
    "# Load data-sets\n",
    "def read_file( file_name ):\n",
    "    with open( file_name ) as file:\n",
    "        lines = file.readlines()\n",
    "    return [ line.rstrip(\"\\n\\t\") for line in lines[ 0: ] ]\n",
    "\n",
    "mal_urls = read_file( 'malicious-urls.txt' )\n",
    "ben_urls = read_file( 'benign-urls.txt' )"
   ]
  },
  {
   "cell_type": "code",
   "execution_count": 20,
   "metadata": {},
   "outputs": [],
   "source": [
    "# Data preparation\n",
    "df = pd.DataFrame({'urls':mal_urls+ben_urls, 'label':np.concatenate( [ np.ones(len(ben_urls)), np.zeros(len(mal_urls)) ])})\n",
    "url_tokens = [[printable.index(x) + 1 for x in url if x in printable] for url in df.urls]\n",
    "x_train, x_test, y_train, y_test = train_test_split(pad_sequences(url_tokens, maxlen=75), np.array(df.label), test_size=0.25, random_state=33)"
   ]
  },
  {
   "cell_type": "code",
   "execution_count": 23,
   "metadata": {},
   "outputs": [
    {
     "name": "stdout",
     "output_type": "stream",
     "text": [
      "_________________________________________________________________\n",
      "Layer (type)                 Output Shape              Param #   \n",
      "=================================================================\n",
      "embedding_1 (Embedding)      (None, None, 32)          3200      \n",
      "_________________________________________________________________\n",
      "lstm_1 (LSTM)                (None, 32)                8320      \n",
      "_________________________________________________________________\n",
      "dense_1 (Dense)              (None, 1)                 33        \n",
      "=================================================================\n",
      "Total params: 11,553\n",
      "Trainable params: 11,553\n",
      "Non-trainable params: 0\n",
      "_________________________________________________________________\n"
     ]
    }
   ],
   "source": [
    "# Build a model\n",
    "model = Sequential()\n",
    "model.add(Embedding(100, 32))\n",
    "model.add(LSTM(32))\n",
    "model.add(Dense(1, activation ='sigmoid'))\n",
    "model.summary()"
   ]
  },
  {
   "cell_type": "code",
   "execution_count": 27,
   "metadata": {},
   "outputs": [
    {
     "name": "stdout",
     "output_type": "stream",
     "text": [
      "Train on 40411 samples, validate on 10103 samples\n",
      "Epoch 1/100\n",
      "40411/40411 [==============================] - 55s 1ms/step - loss: 0.0241 - acc: 0.9944 - val_loss: 0.0226 - val_acc: 0.9941\n",
      "Epoch 2/100\n",
      "40411/40411 [==============================] - 52s 1ms/step - loss: 0.0222 - acc: 0.9946 - val_loss: 0.0212 - val_acc: 0.9941\n",
      "Epoch 3/100\n",
      "40411/40411 [==============================] - 56s 1ms/step - loss: 0.0220 - acc: 0.9946 - val_loss: 0.0209 - val_acc: 0.9941\n",
      "Epoch 4/100\n",
      "40411/40411 [==============================] - 54s 1ms/step - loss: 0.0212 - acc: 0.9946 - val_loss: 0.0201 - val_acc: 0.9942\n",
      "Epoch 5/100\n",
      "40411/40411 [==============================] - 54s 1ms/step - loss: 0.0205 - acc: 0.9946 - val_loss: 0.0202 - val_acc: 0.9941\n",
      "Epoch 6/100\n",
      "40411/40411 [==============================] - 54s 1ms/step - loss: 0.0195 - acc: 0.9947 - val_loss: 0.0194 - val_acc: 0.9950\n",
      "Epoch 7/100\n",
      "40411/40411 [==============================] - 54s 1ms/step - loss: 0.0192 - acc: 0.9947 - val_loss: 0.0195 - val_acc: 0.9944\n",
      "Epoch 8/100\n",
      "40411/40411 [==============================] - 54s 1ms/step - loss: 0.0182 - acc: 0.9950 - val_loss: 0.0202 - val_acc: 0.9947\n",
      "Epoch 9/100\n",
      "40411/40411 [==============================] - 54s 1ms/step - loss: 0.0175 - acc: 0.9950 - val_loss: 0.0188 - val_acc: 0.9947\n",
      "Epoch 10/100\n",
      "40411/40411 [==============================] - 54s 1ms/step - loss: 0.0174 - acc: 0.9951 - val_loss: 0.0175 - val_acc: 0.9949\n",
      "Epoch 11/100\n",
      "40411/40411 [==============================] - 53s 1ms/step - loss: 0.0167 - acc: 0.9951 - val_loss: 0.0186 - val_acc: 0.9948\n",
      "Epoch 12/100\n",
      "40411/40411 [==============================] - 53s 1ms/step - loss: 0.0162 - acc: 0.9952 - val_loss: 0.0175 - val_acc: 0.9944\n",
      "Epoch 13/100\n",
      "40411/40411 [==============================] - 52s 1ms/step - loss: 0.0158 - acc: 0.9953 - val_loss: 0.0174 - val_acc: 0.9948\n",
      "Epoch 14/100\n",
      "40411/40411 [==============================] - 54s 1ms/step - loss: 0.0153 - acc: 0.9953 - val_loss: 0.0173 - val_acc: 0.9948\n",
      "Epoch 15/100\n",
      "40411/40411 [==============================] - 54s 1ms/step - loss: 0.0151 - acc: 0.9954 - val_loss: 0.0166 - val_acc: 0.9951\n",
      "Epoch 16/100\n",
      "40411/40411 [==============================] - 54s 1ms/step - loss: 0.0145 - acc: 0.9954 - val_loss: 0.0183 - val_acc: 0.9946\n",
      "Epoch 17/100\n",
      "40411/40411 [==============================] - 53s 1ms/step - loss: 0.0142 - acc: 0.9955 - val_loss: 0.0163 - val_acc: 0.9949\n",
      "Epoch 18/100\n",
      "40411/40411 [==============================] - 54s 1ms/step - loss: 0.0143 - acc: 0.9955 - val_loss: 0.0158 - val_acc: 0.9951\n",
      "Epoch 19/100\n",
      "40411/40411 [==============================] - 53s 1ms/step - loss: 0.0136 - acc: 0.9957 - val_loss: 0.0163 - val_acc: 0.9948\n",
      "Epoch 20/100\n",
      "40411/40411 [==============================] - 53s 1ms/step - loss: 0.0133 - acc: 0.9959 - val_loss: 0.0165 - val_acc: 0.9946\n",
      "Epoch 21/100\n",
      "40411/40411 [==============================] - 54s 1ms/step - loss: 0.0133 - acc: 0.9956 - val_loss: 0.0178 - val_acc: 0.9943\n",
      "Epoch 22/100\n",
      "40411/40411 [==============================] - 54s 1ms/step - loss: 0.0127 - acc: 0.9958 - val_loss: 0.0207 - val_acc: 0.9944\n",
      "Epoch 23/100\n",
      "40411/40411 [==============================] - 54s 1ms/step - loss: 0.0128 - acc: 0.9956 - val_loss: 0.0162 - val_acc: 0.9951\n",
      "Epoch 24/100\n",
      "40411/40411 [==============================] - 54s 1ms/step - loss: 0.0119 - acc: 0.9958 - val_loss: 0.0170 - val_acc: 0.9943\n",
      "Epoch 25/100\n",
      "40411/40411 [==============================] - 53s 1ms/step - loss: 0.0118 - acc: 0.9962 - val_loss: 0.0183 - val_acc: 0.9944\n",
      "Epoch 00025: early stopping\n"
     ]
    }
   ],
   "source": [
    "# Compile model\n",
    "model.compile(optimizer = 'rmsprop',\n",
    "             loss = 'binary_crossentropy',\n",
    "             metrics=['acc'])\n",
    "# Train model\n",
    "history = model.fit(x_train, y_train, \n",
    "                    epochs = 100, batch_size = 64, \n",
    "                    validation_split = 0.2, verbose=1, \n",
    "                    callbacks=[EarlyStopping(monitor='val_loss', min_delta=0, patience=7, verbose=1, mode='auto')])"
   ]
  },
  {
   "cell_type": "code",
   "execution_count": 28,
   "metadata": {},
   "outputs": [
    {
     "name": "stdout",
     "output_type": "stream",
     "text": [
      "16839/16839 [==============================] - 6s 345us/step\n",
      "[0.028990465670625593, 0.9941207910208445]\n"
     ]
    }
   ],
   "source": [
    "#  Evaluating the model\n",
    "rnn_score = model.evaluate(x_test, y_test, verbose=1)\n",
    "print(score)"
   ]
  },
  {
   "cell_type": "code",
   "execution_count": 29,
   "metadata": {},
   "outputs": [
    {
     "data": {
      "image/png": "[encoded data removed]",
      "text/plain": [
       "<Figure size 432x288 with 1 Axes>"
      ]
     },
     "metadata": {},
     "output_type": "display_data"
    },
    {
     "data": {
      "image/png": "[encoded data removed]",
      "text/plain": [
       "<Figure size 432x288 with 1 Axes>"
      ]
     },
     "metadata": {},
     "output_type": "display_data"
    }
   ],
   "source": [
    "# Plot\n",
    "acc = history.history['acc']\n",
    "val_acc = history.history['val_acc']\n",
    "loss = history.history['loss']\n",
    "val_loss = history.history['val_loss']\n",
    "\n",
    "# Training + Valdiation Accuracy\n",
    "epochs = range(1,len(acc) + 1)\n",
    "plt.plot( epochs, acc, 'r', label = 'Training Accuracy')\n",
    "plt.plot( epochs, val_acc, 'b', label = 'Validation Accuracy')\n",
    "plt.title('Training and validation accuracy')\n",
    "plt.legend()\n",
    "plt.figure()\n",
    "\n",
    "# Training + Validation Loss\n",
    "epochs = range(1,len(loss) + 1)\n",
    "plt.plot( epochs, loss, 'r', label = 'Training Loss')\n",
    "plt.plot( epochs, val_loss, 'b', label = 'Validation Loss')\n",
    "plt.title('Training and validation loss')\n",
    "plt.legend()\n",
    "plt.show()"
   ]
  },
  {
   "cell_type": "code",
   "execution_count": 125,
   "metadata": {},
   "outputs": [],
   "source": [
    "# 3.2 CNN\n",
    "\n",
    "# Load data-sets\n",
    "def read_file( file_name ):\n",
    "    with open( file_name ) as file:\n",
    "        lines = file.readlines()\n",
    "    return [ line.rstrip(\"\\n\\t\") for line in lines[ 0: ] ]\n",
    "\n",
    "mal_urls = read_file( 'malicious-urls.txt' )\n",
    "ben_urls = read_file( 'benign-urls.txt' )"
   ]
  },
  {
   "cell_type": "code",
   "execution_count": 126,
   "metadata": {},
   "outputs": [],
   "source": [
    "# Data preparation\n",
    "df = pd.DataFrame({'urls':mal_urls+ben_urls, 'label':np.concatenate( [ np.ones(len(ben_urls)), np.zeros(len(mal_urls)) ])})\n",
    "url_tokens = [[printable.index(x) + 1 for x in url if x in printable] for url in df.urls]\n",
    "x_train, x_test, y_train, y_test = train_test_split(pad_sequences(url_tokens, maxlen=75), np.array(df.label), test_size=0.25, random_state=33)"
   ]
  },
  {
   "cell_type": "code",
   "execution_count": 137,
   "metadata": {},
   "outputs": [
    {
     "name": "stderr",
     "output_type": "stream",
     "text": [
      "/anaconda2/lib/python2.7/site-packages/ipykernel_launcher.py:9: UserWarning: Update your `Conv1D` call to the Keras 2 API: `Conv1D(padding=\"same\", activation=\"relu\", kernel_size=2, filters=256)`\n",
      "  if __name__ == '__main__':\n",
      "/anaconda2/lib/python2.7/site-packages/ipykernel_launcher.py:15: UserWarning: Update your `BatchNormalization` call to the Keras 2 API: `BatchNormalization()`\n",
      "  from ipykernel import kernelapp as app\n"
     ]
    }
   ],
   "source": [
    "def sum_1d(X):\n",
    "    return backend.sum(X, axis=1)\n",
    "\n",
    "# Build a model\n",
    "model = Sequential()\n",
    "model.add(Embedding(input_dim=100, output_dim=32, \n",
    "                    input_length=75))\n",
    "model.add(Dropout(0.25))\n",
    "model.add(Conv1D(filters=256, kernel_size=2, activation='relu', border_mode='same'))\n",
    "model.add(ELU())\n",
    "model.add(Lambda(sum_1d, output_shape=(256,)))\n",
    "model.add(Dropout(0.5))\n",
    "model.add(Dense(1024, activation='relu'))\n",
    "model.add(ELU())\n",
    "model.add(BatchNormalization(mode=0))\n",
    "model.add(Dropout(0.5))\n",
    "model.add(Dense(1, activation='sigmoid'))"
   ]
  },
  {
   "cell_type": "code",
   "execution_count": null,
   "metadata": {},
   "outputs": [
    {
     "name": "stdout",
     "output_type": "stream",
     "text": [
      "Train on 40411 samples, validate on 10103 samples\n",
      "Epoch 1/100\n",
      "40411/40411 [==============================] - 21s 524us/step - loss: 0.1118 - acc: 0.9635 - val_loss: 0.0765 - val_acc: 0.9876\n",
      "Epoch 2/100\n",
      "40411/40411 [==============================] - 21s 520us/step - loss: 0.0463 - acc: 0.9897 - val_loss: 0.0318 - val_acc: 0.9935\n",
      "Epoch 3/100\n",
      "23936/40411 [================>.............] - ETA: 7s - loss: 0.0385 - acc: 0.9916"
     ]
    }
   ],
   "source": [
    "# Compile model\n",
    "model.compile(optimizer = 'rmsprop',\n",
    "             loss = 'binary_crossentropy',\n",
    "             metrics=['acc'])\n",
    "# Train model\n",
    "history = model.fit(x_train, y_train, \n",
    "                    epochs = 100, batch_size = 64, \n",
    "                    validation_split = 0.2, verbose=1, \n",
    "                    callbacks=[EarlyStopping(monitor='val_loss', min_delta=0, patience=7, verbose=1, mode='auto')])"
   ]
  },
  {
   "cell_type": "code",
   "execution_count": null,
   "metadata": {},
   "outputs": [],
   "source": [
    "#  Evaluating the model\n",
    "cnn_score = model.evaluate(x_test, y_test, verbose=1)\n",
    "print(score)"
   ]
  },
  {
   "cell_type": "code",
   "execution_count": null,
   "metadata": {},
   "outputs": [],
   "source": [
    "# Plot\n",
    "acc = history.history['acc']\n",
    "val_acc = history.history['val_acc']\n",
    "loss = history.history['loss']\n",
    "val_loss = history.history['val_loss']\n",
    "\n",
    "# Training + Valdiation Accuracy\n",
    "epochs = range(1,len(acc) + 1)\n",
    "plt.plot( epochs, acc, 'r', label = 'Training Accuracy')\n",
    "plt.plot( epochs, val_acc, 'b', label = 'Validation Accuracy')\n",
    "plt.title('Training and validation accuracy')\n",
    "plt.legend()\n",
    "plt.figure()\n",
    "\n",
    "# Training + Validation Loss\n",
    "epochs = range(1,len(loss) + 1)\n",
    "plt.plot( epochs, loss, 'r', label = 'Training Loss')\n",
    "plt.plot( epochs, val_loss, 'b', label = 'Validation Loss')\n",
    "plt.title('Training and validation loss')\n",
    "plt.legend()\n",
    "plt.show()"
   ]
  },
  {
   "cell_type": "code",
   "execution_count": null,
   "metadata": {},
   "outputs": [],
   "source": [
    "# 3.2\n",
    "\n",
    "# RNN\n",
    "rnn_pred = model.predict(x_test).ravel()\n",
    "rnn_fpr, rnn_tpr, rnn_thresholds = roc_curve(y_test, rnn_pred)\n",
    "rnn_auc = auc(rnn_fpr, rnn_tpr)\n",
    "\n",
    "# CNN\n",
    "cnn_pred = cnn_model.predict(x_test).ravel()\n",
    "cnn_fpr, cnn_tpr, cnn_thresholds = roc_curve(y_test, cnn_pred)\n",
    "cnn_auc = auc(cnn_fpr, cnn_tpr)"
   ]
  },
  {
   "cell_type": "code",
   "execution_count": null,
   "metadata": {},
   "outputs": [],
   "source": [
    "# Plot ROC\n",
    "plt.figure(1)\n",
    "plt.plot([0, 1], [0, 1], 'k--')\n",
    "plt.plot(rnn_fpr, rnn_tpr, label='RNN (area = {:.3f})'.format(rnn_auc))\n",
    "plt.plot(cnn_fpr, cnn_tpr, label='CNN (area = {:.3f})'.format(cnn_auc))\n",
    "plt.xlabel('false positive rate')\n",
    "plt.ylabel('true positive rate')\n",
    "plt.title('ROC')\n",
    "plt.legend(loc='best')\n",
    "plt.show()"
   ]
  }
 ],
 "metadata": {
  "kernelspec": {
   "display_name": "Python 2",
   "language": "python",
   "name": "python2"
  },
  "language_info": {
   "codemirror_mode": {
    "name": "ipython",
    "version": 2
   },
   "file_extension": ".py",
   "mimetype": "text/x-python",
   "name": "python",
   "nbconvert_exporter": "python",
   "pygments_lexer": "ipython2",
   "version": "2.7.15"
  }
 },
 "nbformat": 4,
 "nbformat_minor": 2
}
